{
 "cells": [
  {
   "cell_type": "markdown",
   "metadata": {},
   "source": [
    "# Set up"
   ]
  },
  {
   "cell_type": "code",
   "execution_count": null,
   "metadata": {},
   "outputs": [],
   "source": [
    "\n",
    "import os\n",
    "\n",
    "import pandas as pd\n",
    "from alpaca.data import (\n",
    "    StockHistoricalDataClient,\n",
    ")\n",
    "\n",
    "from alpaca.data.requests import (\n",
    "    StockBarsRequest,\n",
    "    TimeFrame,\n",
    ")\n",
    "from alpaca.trading import (\n",
    "    MarketOrderRequest,\n",
    "    OrderSide,\n",
    "    TimeInForce,\n",
    "    TradingClient,\n",
    ")\n",
    "from alpaca.trading.models import Position, TradeAccount\n"
   ]
  },
  {
   "cell_type": "code",
   "execution_count": null,
   "metadata": {},
   "outputs": [],
   "source": [
    "import dotenv\n",
    "\n",
    "dotenv.load_dotenv()\n",
    "\n",
    "API_KEY = os.getenv(\"ALPACA_KEY\")\n",
    "SECRET_KEY = os.getenv(\"ALPACA_SECRET\")\n",
    "BASE_URL = \"https://paper-api.alpaca.markets/v2\"  # paper trading\n",
    "\n",
    "stock_history_client = StockHistoricalDataClient(API_KEY, SECRET_KEY)\n"
   ]
  },
  {
   "cell_type": "code",
   "execution_count": null,
   "metadata": {},
   "outputs": [],
   "source": [
    "trading_client = TradingClient(API_KEY, SECRET_KEY, paper=True)"
   ]
  },
  {
   "cell_type": "markdown",
   "metadata": {},
   "source": [
    "## Fetching historical data"
   ]
  },
  {
   "cell_type": "code",
   "execution_count": null,
   "metadata": {},
   "outputs": [],
   "source": [
    "# get history datt from alpaca api, daily of last 126 days (half year)\n",
    "\n",
    "from tracemalloc import start\n",
    "\n",
    "\n",
    "def get_history_data(symbol=\"AAPL\", days=182) -> pd.DataFrame:\n",
    "    # end date in US Eastern Timezone\n",
    "    end_date = pd.Timestamp.now(tz=\"US/Eastern\")\n",
    "    end_date = end_date - pd.Timedelta(days=1)  # yesterday\n",
    "    start_date = end_date - pd.Timedelta(days=days)\n",
    "\n",
    "    stock_request = StockBarsRequest(\n",
    "        symbol_or_symbols=symbol,\n",
    "        timeframe=TimeFrame.Day,\n",
    "        start=start_date,\n",
    "        end=end_date,\n",
    "    )\n",
    "\n",
    "    bars = stock_history_client.get_stock_bars(stock_request)\n",
    "\n",
    "    return bars.df"
   ]
  },
  {
   "cell_type": "code",
   "execution_count": 56,
   "metadata": {},
   "outputs": [
    {
     "data": {
      "text/html": [
       "<div>\n",
       "<style scoped>\n",
       "    .dataframe tbody tr th:only-of-type {\n",
       "        vertical-align: middle;\n",
       "    }\n",
       "\n",
       "    .dataframe tbody tr th {\n",
       "        vertical-align: top;\n",
       "    }\n",
       "\n",
       "    .dataframe thead th {\n",
       "        text-align: right;\n",
       "    }\n",
       "</style>\n",
       "<table border=\"1\" class=\"dataframe\">\n",
       "  <thead>\n",
       "    <tr style=\"text-align: right;\">\n",
       "      <th></th>\n",
       "      <th></th>\n",
       "      <th>open</th>\n",
       "      <th>high</th>\n",
       "      <th>low</th>\n",
       "      <th>close</th>\n",
       "      <th>volume</th>\n",
       "      <th>trade_count</th>\n",
       "      <th>vwap</th>\n",
       "    </tr>\n",
       "    <tr>\n",
       "      <th>symbol</th>\n",
       "      <th>timestamp</th>\n",
       "      <th></th>\n",
       "      <th></th>\n",
       "      <th></th>\n",
       "      <th></th>\n",
       "      <th></th>\n",
       "      <th></th>\n",
       "      <th></th>\n",
       "    </tr>\n",
       "  </thead>\n",
       "  <tbody>\n",
       "    <tr>\n",
       "      <th rowspan=\"11\" valign=\"top\">AAPL</th>\n",
       "      <th>2024-08-12 04:00:00+00:00</th>\n",
       "      <td>216.070</td>\n",
       "      <td>219.5099</td>\n",
       "      <td>215.6000</td>\n",
       "      <td>217.53</td>\n",
       "      <td>38028092.0</td>\n",
       "      <td>602530.0</td>\n",
       "      <td>217.546317</td>\n",
       "    </tr>\n",
       "    <tr>\n",
       "      <th>2024-08-13 04:00:00+00:00</th>\n",
       "      <td>219.010</td>\n",
       "      <td>221.8900</td>\n",
       "      <td>219.0100</td>\n",
       "      <td>221.27</td>\n",
       "      <td>44155331.0</td>\n",
       "      <td>553265.0</td>\n",
       "      <td>220.993659</td>\n",
       "    </tr>\n",
       "    <tr>\n",
       "      <th>2024-08-14 04:00:00+00:00</th>\n",
       "      <td>220.570</td>\n",
       "      <td>223.0300</td>\n",
       "      <td>219.7000</td>\n",
       "      <td>221.72</td>\n",
       "      <td>41960574.0</td>\n",
       "      <td>568519.0</td>\n",
       "      <td>221.499308</td>\n",
       "    </tr>\n",
       "    <tr>\n",
       "      <th>2024-08-15 04:00:00+00:00</th>\n",
       "      <td>224.600</td>\n",
       "      <td>225.3500</td>\n",
       "      <td>222.7600</td>\n",
       "      <td>224.72</td>\n",
       "      <td>46414013.0</td>\n",
       "      <td>590575.0</td>\n",
       "      <td>224.553660</td>\n",
       "    </tr>\n",
       "    <tr>\n",
       "      <th>2024-08-16 04:00:00+00:00</th>\n",
       "      <td>223.920</td>\n",
       "      <td>226.8271</td>\n",
       "      <td>223.6501</td>\n",
       "      <td>226.05</td>\n",
       "      <td>44340240.0</td>\n",
       "      <td>562638.0</td>\n",
       "      <td>225.429357</td>\n",
       "    </tr>\n",
       "    <tr>\n",
       "      <th>...</th>\n",
       "      <td>...</td>\n",
       "      <td>...</td>\n",
       "      <td>...</td>\n",
       "      <td>...</td>\n",
       "      <td>...</td>\n",
       "      <td>...</td>\n",
       "      <td>...</td>\n",
       "    </tr>\n",
       "    <tr>\n",
       "      <th>2025-02-03 05:00:00+00:00</th>\n",
       "      <td>229.990</td>\n",
       "      <td>231.8300</td>\n",
       "      <td>225.7000</td>\n",
       "      <td>228.01</td>\n",
       "      <td>72998404.0</td>\n",
       "      <td>850831.0</td>\n",
       "      <td>228.158376</td>\n",
       "    </tr>\n",
       "    <tr>\n",
       "      <th>2025-02-04 05:00:00+00:00</th>\n",
       "      <td>227.250</td>\n",
       "      <td>233.1300</td>\n",
       "      <td>226.6500</td>\n",
       "      <td>232.80</td>\n",
       "      <td>44902694.0</td>\n",
       "      <td>494709.0</td>\n",
       "      <td>231.209491</td>\n",
       "    </tr>\n",
       "    <tr>\n",
       "      <th>2025-02-05 05:00:00+00:00</th>\n",
       "      <td>228.530</td>\n",
       "      <td>232.6700</td>\n",
       "      <td>228.2700</td>\n",
       "      <td>232.47</td>\n",
       "      <td>39664989.0</td>\n",
       "      <td>445631.0</td>\n",
       "      <td>230.958037</td>\n",
       "    </tr>\n",
       "    <tr>\n",
       "      <th>2025-02-06 05:00:00+00:00</th>\n",
       "      <td>231.285</td>\n",
       "      <td>233.8000</td>\n",
       "      <td>230.4250</td>\n",
       "      <td>233.22</td>\n",
       "      <td>29925349.0</td>\n",
       "      <td>375401.0</td>\n",
       "      <td>232.379795</td>\n",
       "    </tr>\n",
       "    <tr>\n",
       "      <th>2025-02-07 05:00:00+00:00</th>\n",
       "      <td>232.600</td>\n",
       "      <td>234.0000</td>\n",
       "      <td>227.2600</td>\n",
       "      <td>227.63</td>\n",
       "      <td>39487057.0</td>\n",
       "      <td>484221.0</td>\n",
       "      <td>229.183241</td>\n",
       "    </tr>\n",
       "  </tbody>\n",
       "</table>\n",
       "<p>124 rows × 7 columns</p>\n",
       "</div>"
      ],
      "text/plain": [
       "                                     open      high       low   close  \\\n",
       "symbol timestamp                                                        \n",
       "AAPL   2024-08-12 04:00:00+00:00  216.070  219.5099  215.6000  217.53   \n",
       "       2024-08-13 04:00:00+00:00  219.010  221.8900  219.0100  221.27   \n",
       "       2024-08-14 04:00:00+00:00  220.570  223.0300  219.7000  221.72   \n",
       "       2024-08-15 04:00:00+00:00  224.600  225.3500  222.7600  224.72   \n",
       "       2024-08-16 04:00:00+00:00  223.920  226.8271  223.6501  226.05   \n",
       "...                                   ...       ...       ...     ...   \n",
       "       2025-02-03 05:00:00+00:00  229.990  231.8300  225.7000  228.01   \n",
       "       2025-02-04 05:00:00+00:00  227.250  233.1300  226.6500  232.80   \n",
       "       2025-02-05 05:00:00+00:00  228.530  232.6700  228.2700  232.47   \n",
       "       2025-02-06 05:00:00+00:00  231.285  233.8000  230.4250  233.22   \n",
       "       2025-02-07 05:00:00+00:00  232.600  234.0000  227.2600  227.63   \n",
       "\n",
       "                                      volume  trade_count        vwap  \n",
       "symbol timestamp                                                       \n",
       "AAPL   2024-08-12 04:00:00+00:00  38028092.0     602530.0  217.546317  \n",
       "       2024-08-13 04:00:00+00:00  44155331.0     553265.0  220.993659  \n",
       "       2024-08-14 04:00:00+00:00  41960574.0     568519.0  221.499308  \n",
       "       2024-08-15 04:00:00+00:00  46414013.0     590575.0  224.553660  \n",
       "       2024-08-16 04:00:00+00:00  44340240.0     562638.0  225.429357  \n",
       "...                                      ...          ...         ...  \n",
       "       2025-02-03 05:00:00+00:00  72998404.0     850831.0  228.158376  \n",
       "       2025-02-04 05:00:00+00:00  44902694.0     494709.0  231.209491  \n",
       "       2025-02-05 05:00:00+00:00  39664989.0     445631.0  230.958037  \n",
       "       2025-02-06 05:00:00+00:00  29925349.0     375401.0  232.379795  \n",
       "       2025-02-07 05:00:00+00:00  39487057.0     484221.0  229.183241  \n",
       "\n",
       "[124 rows x 7 columns]"
      ]
     },
     "execution_count": 56,
     "metadata": {},
     "output_type": "execute_result"
    }
   ],
   "source": [
    "data = get_history_data()\n",
    "data"
   ]
  },
  {
   "cell_type": "markdown",
   "metadata": {},
   "source": [
    "## Calculate EMA and RSI\n"
   ]
  },
  {
   "cell_type": "code",
   "execution_count": null,
   "metadata": {},
   "outputs": [],
   "source": [
    "# calculate EMA\n",
    "\n",
    "\n",
    "def calculate_ema(\n",
    "    data: pd.DataFrame, period: int = 9, column: str = \"vwap\"\n",
    ") -> pd.Series:\n",
    "    # shift the day to yesterday and calculate the EMA\n",
    "    ema = data[column].ewm(span=period, adjust=False).mean()\n",
    "    return ema\n"
   ]
  },
  {
   "cell_type": "code",
   "execution_count": 58,
   "metadata": {},
   "outputs": [
    {
     "data": {
      "text/plain": [
       "symbol  timestamp                \n",
       "AAPL    2024-08-12 04:00:00+00:00    217.546317\n",
       "        2024-08-13 04:00:00+00:00    218.235785\n",
       "        2024-08-14 04:00:00+00:00    218.888490\n",
       "        2024-08-15 04:00:00+00:00    220.021524\n",
       "        2024-08-16 04:00:00+00:00    221.103091\n",
       "                                        ...    \n",
       "        2025-02-03 05:00:00+00:00    233.097586\n",
       "        2025-02-04 05:00:00+00:00    232.719967\n",
       "        2025-02-05 05:00:00+00:00    232.367581\n",
       "        2025-02-06 05:00:00+00:00    232.370024\n",
       "        2025-02-07 05:00:00+00:00    231.732667\n",
       "Name: vwap, Length: 124, dtype: float64"
      ]
     },
     "execution_count": 58,
     "metadata": {},
     "output_type": "execute_result"
    }
   ],
   "source": [
    "ema = calculate_ema(data)\n",
    "ema"
   ]
  },
  {
   "cell_type": "code",
   "execution_count": null,
   "metadata": {},
   "outputs": [],
   "source": [
    "# calculate RSI\n",
    "\n",
    "\n",
    "def calculate_rsi(\n",
    "    data: pd.DataFrame, period: int = 14, column: str = \"vwap\"\n",
    ") -> pd.Series:\n",
    "    delta = data[column].diff()\n",
    "    gain = (delta.where(delta > 0, 0)).ewm(span=period).mean()\n",
    "    loss = (-delta.where(delta < 0, 0)).ewm(span=period).mean()\n",
    "    rs = gain / loss\n",
    "    return 100 - (100 / (1 + rs))"
   ]
  },
  {
   "cell_type": "code",
   "execution_count": 33,
   "metadata": {},
   "outputs": [
    {
     "data": {
      "text/plain": [
       "symbol  timestamp                \n",
       "AAPL    2024-08-12 04:00:00+00:00           NaN\n",
       "        2024-08-13 04:00:00+00:00    100.000000\n",
       "        2024-08-14 04:00:00+00:00    100.000000\n",
       "        2024-08-15 04:00:00+00:00    100.000000\n",
       "        2024-08-16 04:00:00+00:00    100.000000\n",
       "                                        ...    \n",
       "        2025-02-03 05:00:00+00:00     38.715583\n",
       "        2025-02-04 05:00:00+00:00     45.493158\n",
       "        2025-02-05 05:00:00+00:00     45.019707\n",
       "        2025-02-06 05:00:00+00:00     48.515308\n",
       "        2025-02-07 05:00:00+00:00     41.646280\n",
       "Name: vwap, Length: 124, dtype: float64"
      ]
     },
     "execution_count": 33,
     "metadata": {},
     "output_type": "execute_result"
    }
   ],
   "source": [
    "rsi = calculate_rsi(data)\n",
    "rsi"
   ]
  },
  {
   "cell_type": "code",
   "execution_count": 34,
   "metadata": {},
   "outputs": [
    {
     "data": {
      "text/plain": [
       "41.64627991927544"
      ]
     },
     "execution_count": 34,
     "metadata": {},
     "output_type": "execute_result"
    }
   ],
   "source": [
    "# pick last rsi value\n",
    "rsi.iloc[-1]"
   ]
  },
  {
   "cell_type": "markdown",
   "metadata": {},
   "source": [
    "## Build Trading Strategy"
   ]
  },
  {
   "cell_type": "code",
   "execution_count": null,
   "metadata": {},
   "outputs": [],
   "source": [
    "def get_signals(symbol=\"AAPL\"):\n",
    "    data = get_history_data(symbol)\n",
    "    rsi = calculate_rsi(data).shift(1)\n",
    "    short_ema = calculate_ema(data, 9).shift(1)\n",
    "    long_ema = calculate_ema(data, 21).shift(1)\n",
    "\n",
    "    # a series of same length as data, but add 1 to buy/long, -1 to sell/short, 0 to exit\n",
    "    signals = pd.Series(0, index=data.index)\n",
    "\n",
    "    for i in range(1, len(data)):\n",
    "        if rsi.iloc[i] < 30 and long_ema.iloc[i] > short_ema.iloc[i]:\n",
    "            signals.iloc[i] = 1\n",
    "        elif rsi.iloc[i] > 70 and long_ema.iloc[i] < short_ema.iloc[i]:\n",
    "            signals.iloc[i] = -1\n",
    "\n",
    "    return signals  # this signals could be used for backtesting, but backtesting is not covered here"
   ]
  },
  {
   "cell_type": "code",
   "execution_count": 60,
   "metadata": {},
   "outputs": [],
   "source": [
    "df = get_signals()"
   ]
  },
  {
   "cell_type": "code",
   "execution_count": 61,
   "metadata": {},
   "outputs": [
    {
     "data": {
      "text/plain": [
       "symbol  timestamp                \n",
       "AAPL    2024-08-12 04:00:00+00:00    0\n",
       "        2024-08-13 04:00:00+00:00    0\n",
       "        2024-08-14 04:00:00+00:00   -1\n",
       "        2024-08-15 04:00:00+00:00   -1\n",
       "        2024-08-16 04:00:00+00:00   -1\n",
       "                                    ..\n",
       "        2024-12-26 05:00:00+00:00   -1\n",
       "        2024-12-27 05:00:00+00:00   -1\n",
       "        2024-12-30 05:00:00+00:00    0\n",
       "        2024-12-31 05:00:00+00:00    0\n",
       "        2025-01-02 05:00:00+00:00    0\n",
       "Length: 100, dtype: int64"
      ]
     },
     "execution_count": 61,
     "metadata": {},
     "output_type": "execute_result"
    }
   ],
   "source": [
    "df.head(100)"
   ]
  },
  {
   "cell_type": "code",
   "execution_count": null,
   "metadata": {},
   "outputs": [],
   "source": [
    "def trade(symbol=\"AAPL\", quantity=1000):\n",
    "    signals = get_signals(symbol)\n",
    "    # get latest signal\n",
    "    latest_signal = signals.iloc[-1]\n",
    "    if latest_signal == 1 or True:\n",
    "        # buy/long\n",
    "        order_request = MarketOrderRequest(\n",
    "            symbol=symbol,\n",
    "            qty=quantity,\n",
    "            side=OrderSide.BUY,\n",
    "            time_in_force=TimeInForce.DAY,\n",
    "        )\n",
    "        trading_client.submit_order(order_request)\n",
    "    elif latest_signal == -1:\n",
    "        # sell/short\n",
    "        order_request = MarketOrderRequest(\n",
    "            symbol=symbol,\n",
    "            qty=quantity,\n",
    "            side=OrderSide.SELL,\n",
    "            time_in_force=TimeInForce.DAY,\n",
    "        )\n",
    "        trading_client.submit_order(order_request)\n",
    "    else:\n",
    "        # keep the position\n",
    "        pass\n",
    "\n",
    "    return latest_signal"
   ]
  },
  {
   "cell_type": "code",
   "execution_count": null,
   "metadata": {},
   "outputs": [
    {
     "data": {
      "text/plain": [
       "0"
      ]
     },
     "execution_count": 80,
     "metadata": {},
     "output_type": "execute_result"
    }
   ],
   "source": [
    "# test trade function\n",
    "trade('AAPL', 1)"
   ]
  },
  {
   "cell_type": "markdown",
   "metadata": {},
   "source": [
    "# Futher Work\n",
    "Now  we have a simple trading strategy, that is based on long term EMA and short term EMA and RSI. \n",
    "\n",
    "Next, we will focus on infrastructure part to build and deploy this strategy on AWS Lambda."
   ]
  },
  {
   "cell_type": "markdown",
   "metadata": {},
   "source": []
  }
 ],
 "metadata": {
  "kernelspec": {
   "display_name": "qntdev",
   "language": "python",
   "name": "python3"
  },
  "language_info": {
   "codemirror_mode": {
    "name": "ipython",
    "version": 3
   },
   "file_extension": ".py",
   "mimetype": "text/x-python",
   "name": "python",
   "nbconvert_exporter": "python",
   "pygments_lexer": "ipython3",
   "version": "3.10.15"
  }
 },
 "nbformat": 4,
 "nbformat_minor": 2
}
